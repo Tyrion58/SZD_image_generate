{
 "cells": [
  {
   "cell_type": "code",
   "execution_count": 1,
   "metadata": {},
   "outputs": [
    {
     "name": "stdout",
     "output_type": "stream",
     "text": [
      "\u001b[34m\u001b[1mwandb\u001b[0m: Currently logged in as: \u001b[33mtyrion279\u001b[0m. Use \u001b[1m`wandb login --relogin`\u001b[0m to force relogin\n"
     ]
    },
    {
     "name": "stderr",
     "output_type": "stream",
     "text": [
      "\u001b[34m\u001b[1mwandb\u001b[0m: Currently logged in as: \u001b[33mtyrion279\u001b[0m. Use \u001b[1m`wandb login --relogin`\u001b[0m to force relogin\n"
     ]
    },
    {
     "data": {
      "text/html": [
       "Tracking run with wandb version 0.13.5"
      ],
      "text/plain": [
       "<IPython.core.display.HTML object>"
      ]
     },
     "metadata": {},
     "output_type": "display_data"
    },
    {
     "data": {
      "text/html": [
       "Run data is saved locally in <code>/home/mist/SZD_image_generate/wandb/run-20221115_163232-2edkldao</code>"
      ],
      "text/plain": [
       "<IPython.core.display.HTML object>"
      ]
     },
     "metadata": {},
     "output_type": "display_data"
    },
    {
     "data": {
      "text/html": [
       "Syncing run <strong><a href=\"https://wandb.ai/tyrion279/GAN.ipynb/runs/2edkldao\" target=\"_blank\">wobbly-frog-12</a></strong> to <a href=\"https://wandb.ai/tyrion279/GAN.ipynb\" target=\"_blank\">Weights & Biases</a> (<a href=\"https://wandb.me/run\" target=\"_blank\">docs</a>)<br/>"
      ],
      "text/plain": [
       "<IPython.core.display.HTML object>"
      ]
     },
     "metadata": {},
     "output_type": "display_data"
    },
    {
     "data": {
      "text/html": [
       "<button onClick=\"this.nextSibling.style.display='block';this.style.display='none';\">Display W&B run</button><iframe src=\"https://wandb.ai/tyrion279/GAN.ipynb/runs/2edkldao?jupyter=true\" style=\"border:none;width:100%;height:420px;display:none;\"></iframe>"
      ],
      "text/plain": [
       "<wandb.sdk.wandb_run.Run at 0x7f010802bac0>"
      ]
     },
     "execution_count": 1,
     "metadata": {},
     "output_type": "execute_result"
    }
   ],
   "source": [
    "import wandb\n",
    "\n",
    "!wandb login\n",
    "wandb.init(project=\"GAN.ipynb\")"
   ]
  },
  {
   "cell_type": "code",
   "execution_count": 2,
   "metadata": {},
   "outputs": [],
   "source": [
    "# Using Torch Hub lib\n",
    "import torch\n",
    "import torch.nn as nn\n",
    "from torch.utils.data import Dataset\n",
    "import torchvision.utils as vutils\n",
    "from tqdm.autonotebook import tqdm\n",
    "\n",
    "import pandas as pd\n",
    "import numpy as np\n",
    "from sklearn.preprocessing import MinMaxScaler\n",
    "from sklearn.manifold import TSNE\n",
    "\n",
    "import os\n",
    "from PIL import Image\n",
    "\n",
    "import matplotlib.pyplot as plt"
   ]
  },
  {
   "cell_type": "code",
   "execution_count": 3,
   "metadata": {},
   "outputs": [],
   "source": [
    "# size of the latent space\n",
    "latent_dim = 32"
   ]
  },
  {
   "cell_type": "code",
   "execution_count": 4,
   "metadata": {},
   "outputs": [],
   "source": [
    "# 压缩后的图片尺寸，设置为64 * 64\n",
    "SX = 64\n",
    "SY = 64\n",
    "N_CHANNELS = 1\n",
    "EXTRINSIC_DIM = 6\n",
    "LATENT_DIM = latent_dim"
   ]
  },
  {
   "cell_type": "markdown",
   "metadata": {},
   "source": [
    "# 数据集的导入与处理\n",
    "crop images by 128 x 128, downsize to 64 x 64"
   ]
  },
  {
   "cell_type": "code",
   "execution_count": 5,
   "metadata": {},
   "outputs": [],
   "source": [
    "DATA_PATH = \"./DATA/\"\n",
    "IMAGE_SUBPATH = \"images\"\n",
    "\n",
    "df = pd.read_csv(os.path.join(DATA_PATH, \"Dataset_descriptor.csv\"), sep=\",\")"
   ]
  },
  {
   "cell_type": "code",
   "execution_count": 6,
   "metadata": {},
   "outputs": [
    {
     "data": {
      "text/html": [
       "<div>\n",
       "<style scoped>\n",
       "    .dataframe tbody tr th:only-of-type {\n",
       "        vertical-align: middle;\n",
       "    }\n",
       "\n",
       "    .dataframe tbody tr th {\n",
       "        vertical-align: top;\n",
       "    }\n",
       "\n",
       "    .dataframe thead th {\n",
       "        text-align: right;\n",
       "    }\n",
       "</style>\n",
       "<table border=\"1\" class=\"dataframe\">\n",
       "  <thead>\n",
       "    <tr style=\"text-align: right;\">\n",
       "      <th></th>\n",
       "      <th>file name</th>\n",
       "      <th>sample id</th>\n",
       "      <th>position</th>\n",
       "      <th>temperature [C]</th>\n",
       "      <th>Al-concentration [at.%]</th>\n",
       "      <th>O-concentration [at.%]</th>\n",
       "      <th>ionization degree [a.u.]</th>\n",
       "      <th>average ion energy [eV]</th>\n",
       "      <th>pressure [Pa]</th>\n",
       "      <th>label</th>\n",
       "    </tr>\n",
       "  </thead>\n",
       "  <tbody>\n",
       "    <tr>\n",
       "      <th>0</th>\n",
       "      <td>1680-Pos6-50kx_ergebnis.jpg</td>\n",
       "      <td>1680</td>\n",
       "      <td>6</td>\n",
       "      <td>500</td>\n",
       "      <td>29.94711</td>\n",
       "      <td>0</td>\n",
       "      <td>1.000000</td>\n",
       "      <td>106.734170</td>\n",
       "      <td>0.5</td>\n",
       "      <td>smooth-facetted</td>\n",
       "    </tr>\n",
       "    <tr>\n",
       "      <th>1</th>\n",
       "      <td>0001208_600-Pos2-50kx.jpg</td>\n",
       "      <td>1208</td>\n",
       "      <td>2</td>\n",
       "      <td>600</td>\n",
       "      <td>49.36000</td>\n",
       "      <td>10</td>\n",
       "      <td>0.500000</td>\n",
       "      <td>6.698930</td>\n",
       "      <td>0.5</td>\n",
       "      <td>facetted</td>\n",
       "    </tr>\n",
       "    <tr>\n",
       "      <th>2</th>\n",
       "      <td>0001208_600-Pos6-50kx.jpg</td>\n",
       "      <td>1208</td>\n",
       "      <td>6</td>\n",
       "      <td>600</td>\n",
       "      <td>27.42000</td>\n",
       "      <td>10</td>\n",
       "      <td>0.500000</td>\n",
       "      <td>7.227840</td>\n",
       "      <td>0.5</td>\n",
       "      <td>facetted</td>\n",
       "    </tr>\n",
       "    <tr>\n",
       "      <th>3</th>\n",
       "      <td>3824_4_50kx_20kV_WD10_ergebnis_ergebnis.jpg</td>\n",
       "      <td>3824</td>\n",
       "      <td>4</td>\n",
       "      <td>500</td>\n",
       "      <td>0.00000</td>\n",
       "      <td>0</td>\n",
       "      <td>0.142857</td>\n",
       "      <td>201.428571</td>\n",
       "      <td>0.5</td>\n",
       "      <td>smooth-facetted</td>\n",
       "    </tr>\n",
       "    <tr>\n",
       "      <th>4</th>\n",
       "      <td>1663-Pos3-50kx_ergebnis.jpg</td>\n",
       "      <td>1663</td>\n",
       "      <td>3</td>\n",
       "      <td>500</td>\n",
       "      <td>57.34530</td>\n",
       "      <td>0</td>\n",
       "      <td>1.000000</td>\n",
       "      <td>41.365270</td>\n",
       "      <td>0.5</td>\n",
       "      <td>fine grained</td>\n",
       "    </tr>\n",
       "    <tr>\n",
       "      <th>...</th>\n",
       "      <td>...</td>\n",
       "      <td>...</td>\n",
       "      <td>...</td>\n",
       "      <td>...</td>\n",
       "      <td>...</td>\n",
       "      <td>...</td>\n",
       "      <td>...</td>\n",
       "      <td>...</td>\n",
       "      <td>...</td>\n",
       "      <td>...</td>\n",
       "    </tr>\n",
       "    <tr>\n",
       "      <th>118</th>\n",
       "      <td>4203_800_Pos3_50kx.jpg</td>\n",
       "      <td>4203</td>\n",
       "      <td>3</td>\n",
       "      <td>800</td>\n",
       "      <td>0.00000</td>\n",
       "      <td>3</td>\n",
       "      <td>0.156250</td>\n",
       "      <td>4.600000</td>\n",
       "      <td>0.5</td>\n",
       "      <td>large facetted</td>\n",
       "    </tr>\n",
       "    <tr>\n",
       "      <th>119</th>\n",
       "      <td>1680-Pos9-50kx_ergebnis.jpg</td>\n",
       "      <td>1680</td>\n",
       "      <td>9</td>\n",
       "      <td>500</td>\n",
       "      <td>11.78733</td>\n",
       "      <td>0</td>\n",
       "      <td>1.000000</td>\n",
       "      <td>108.496090</td>\n",
       "      <td>0.5</td>\n",
       "      <td>smooth-facetted</td>\n",
       "    </tr>\n",
       "    <tr>\n",
       "      <th>120</th>\n",
       "      <td>4203_650_Pos06_50kx.jpg</td>\n",
       "      <td>4203</td>\n",
       "      <td>6</td>\n",
       "      <td>650</td>\n",
       "      <td>0.00000</td>\n",
       "      <td>3</td>\n",
       "      <td>1.000000</td>\n",
       "      <td>10.000000</td>\n",
       "      <td>0.5</td>\n",
       "      <td>facetted</td>\n",
       "    </tr>\n",
       "    <tr>\n",
       "      <th>121</th>\n",
       "      <td>1697_Pos10_50kx_cropped.jpg</td>\n",
       "      <td>1697</td>\n",
       "      <td>10</td>\n",
       "      <td>500</td>\n",
       "      <td>7.88694</td>\n",
       "      <td>0</td>\n",
       "      <td>1.200000</td>\n",
       "      <td>100.000000</td>\n",
       "      <td>1.0</td>\n",
       "      <td>smooth-facetted</td>\n",
       "    </tr>\n",
       "    <tr>\n",
       "      <th>122</th>\n",
       "      <td>1678-Pos9-50kx_ergebnis.jpg</td>\n",
       "      <td>1678</td>\n",
       "      <td>9</td>\n",
       "      <td>500</td>\n",
       "      <td>6.21288</td>\n",
       "      <td>0</td>\n",
       "      <td>1.200000</td>\n",
       "      <td>38.860070</td>\n",
       "      <td>1.0</td>\n",
       "      <td>facetted</td>\n",
       "    </tr>\n",
       "  </tbody>\n",
       "</table>\n",
       "<p>123 rows × 10 columns</p>\n",
       "</div>"
      ],
      "text/plain": [
       "                                       file name  sample id  position  \\\n",
       "0                    1680-Pos6-50kx_ergebnis.jpg       1680         6   \n",
       "1                      0001208_600-Pos2-50kx.jpg       1208         2   \n",
       "2                      0001208_600-Pos6-50kx.jpg       1208         6   \n",
       "3    3824_4_50kx_20kV_WD10_ergebnis_ergebnis.jpg       3824         4   \n",
       "4                    1663-Pos3-50kx_ergebnis.jpg       1663         3   \n",
       "..                                           ...        ...       ...   \n",
       "118                       4203_800_Pos3_50kx.jpg       4203         3   \n",
       "119                  1680-Pos9-50kx_ergebnis.jpg       1680         9   \n",
       "120                      4203_650_Pos06_50kx.jpg       4203         6   \n",
       "121                  1697_Pos10_50kx_cropped.jpg       1697        10   \n",
       "122                  1678-Pos9-50kx_ergebnis.jpg       1678         9   \n",
       "\n",
       "     temperature [C]  Al-concentration [at.%]  O-concentration [at.%]  \\\n",
       "0                500                 29.94711                       0   \n",
       "1                600                 49.36000                      10   \n",
       "2                600                 27.42000                      10   \n",
       "3                500                  0.00000                       0   \n",
       "4                500                 57.34530                       0   \n",
       "..               ...                      ...                     ...   \n",
       "118              800                  0.00000                       3   \n",
       "119              500                 11.78733                       0   \n",
       "120              650                  0.00000                       3   \n",
       "121              500                  7.88694                       0   \n",
       "122              500                  6.21288                       0   \n",
       "\n",
       "     ionization degree [a.u.]  average ion energy [eV]  pressure [Pa]  \\\n",
       "0                    1.000000               106.734170            0.5   \n",
       "1                    0.500000                 6.698930            0.5   \n",
       "2                    0.500000                 7.227840            0.5   \n",
       "3                    0.142857               201.428571            0.5   \n",
       "4                    1.000000                41.365270            0.5   \n",
       "..                        ...                      ...            ...   \n",
       "118                  0.156250                 4.600000            0.5   \n",
       "119                  1.000000               108.496090            0.5   \n",
       "120                  1.000000                10.000000            0.5   \n",
       "121                  1.200000               100.000000            1.0   \n",
       "122                  1.200000                38.860070            1.0   \n",
       "\n",
       "               label  \n",
       "0    smooth-facetted  \n",
       "1           facetted  \n",
       "2           facetted  \n",
       "3    smooth-facetted  \n",
       "4       fine grained  \n",
       "..               ...  \n",
       "118   large facetted  \n",
       "119  smooth-facetted  \n",
       "120         facetted  \n",
       "121  smooth-facetted  \n",
       "122         facetted  \n",
       "\n",
       "[123 rows x 10 columns]"
      ]
     },
     "execution_count": 6,
     "metadata": {},
     "output_type": "execute_result"
    }
   ],
   "source": [
    "# shuffling dataframe\n",
    "df = df.sample(frac=1).reset_index(drop=True)\n",
    "df"
   ]
  },
  {
   "cell_type": "code",
   "execution_count": 7,
   "metadata": {},
   "outputs": [
    {
     "data": {
      "text/plain": [
       "Index(['file name', 'sample id', 'position', 'temperature [C]',\n",
       "       'Al-concentration [at.%]', 'O-concentration [at.%]',\n",
       "       'ionization degree [a.u.]', 'average ion energy [eV]', 'pressure [Pa]',\n",
       "       'label'],\n",
       "      dtype='object')"
      ]
     },
     "execution_count": 7,
     "metadata": {},
     "output_type": "execute_result"
    }
   ],
   "source": [
    "df.columns"
   ]
  },
  {
   "cell_type": "code",
   "execution_count": 8,
   "metadata": {},
   "outputs": [],
   "source": [
    "Y_COLUMNS=['temperature [C]',\n",
    "       'Al-concentration [at.%]', 'O-concentration [at.%]',\n",
    "       'ionization degree [a.u.]', 'average ion energy [eV]', 'pressure [Pa]']"
   ]
  },
  {
   "cell_type": "code",
   "execution_count": 9,
   "metadata": {},
   "outputs": [],
   "source": [
    "scaler = MinMaxScaler()"
   ]
  },
  {
   "cell_type": "markdown",
   "metadata": {},
   "source": [
    "对information降维，观察其分布情况"
   ]
  },
  {
   "cell_type": "code",
   "execution_count": 10,
   "metadata": {},
   "outputs": [
    {
     "name": "stderr",
     "output_type": "stream",
     "text": [
      "/usr/local/lib/python3.9/dist-packages/sklearn/manifold/_t_sne.py:991: FutureWarning: The PCA initialization in TSNE will change to have the standard deviation of PC1 equal to 1e-4 in 1.2. This will ensure better convergence.\n",
      "  warnings.warn(\n"
     ]
    },
    {
     "name": "stdout",
     "output_type": "stream",
     "text": [
      "temperature [C]\n"
     ]
    },
    {
     "data": {
      "image/png": "[encoded data removed]",
      "text/plain": [
       "<Figure size 504x216 with 3 Axes>"
      ]
     },
     "metadata": {
      "needs_background": "light"
     },
     "output_type": "display_data"
    },
    {
     "name": "stdout",
     "output_type": "stream",
     "text": [
      "Al-concentration [at.%]\n"
     ]
    },
    {
     "data": {
      "image/png": "[encoded data removed]",
      "text/plain": [
       "<Figure size 504x216 with 3 Axes>"
      ]
     },
     "metadata": {
      "needs_background": "light"
     },
     "output_type": "display_data"
    },
    {
     "name": "stdout",
     "output_type": "stream",
     "text": [
      "O-concentration [at.%]\n"
     ]
    },
    {
     "data": {
      "image/png": "[encoded data removed]",
      "text/plain": [
       "<Figure size 504x216 with 3 Axes>"
      ]
     },
     "metadata": {
      "needs_background": "light"
     },
     "output_type": "display_data"
    },
    {
     "name": "stdout",
     "output_type": "stream",
     "text": [
      "ionization degree [a.u.]\n"
     ]
    },
    {
     "data": {
      "image/png": "[encoded data removed]",
      "text/plain": [
       "<Figure size 504x216 with 3 Axes>"
      ]
     },
     "metadata": {
      "needs_background": "light"
     },
     "output_type": "display_data"
    },
    {
     "name": "stdout",
     "output_type": "stream",
     "text": [
      "average ion energy [eV]\n"
     ]
    },
    {
     "data": {
      "image/png": "[encoded data removed]",
      "text/plain": [
       "<Figure size 504x216 with 3 Axes>"
      ]
     },
     "metadata": {
      "needs_background": "light"
     },
     "output_type": "display_data"
    },
    {
     "name": "stdout",
     "output_type": "stream",
     "text": [
      "pressure [Pa]\n"
     ]
    },
    {
     "data": {
      "image/png": "[encoded data removed]",
      "text/plain": [
       "<Figure size 504x216 with 3 Axes>"
      ]
     },
     "metadata": {
      "needs_background": "light"
     },
     "output_type": "display_data"
    },
    {
     "data": {
      "text/html": [
       "<div>\n",
       "<style scoped>\n",
       "    .dataframe tbody tr th:only-of-type {\n",
       "        vertical-align: middle;\n",
       "    }\n",
       "\n",
       "    .dataframe tbody tr th {\n",
       "        vertical-align: top;\n",
       "    }\n",
       "\n",
       "    .dataframe thead th {\n",
       "        text-align: right;\n",
       "    }\n",
       "</style>\n",
       "<table border=\"1\" class=\"dataframe\">\n",
       "  <thead>\n",
       "    <tr style=\"text-align: right;\">\n",
       "      <th></th>\n",
       "      <th>temperature [C]_binning</th>\n",
       "      <th>Al-concentration [at.%]_binning</th>\n",
       "      <th>O-concentration [at.%]_binning</th>\n",
       "      <th>ionization degree [a.u.]_binning</th>\n",
       "      <th>average ion energy [eV]_binning</th>\n",
       "      <th>pressure [Pa]_binning</th>\n",
       "      <th>T</th>\n",
       "    </tr>\n",
       "  </thead>\n",
       "  <tbody>\n",
       "    <tr>\n",
       "      <th>0</th>\n",
       "      <td>1</td>\n",
       "      <td>1</td>\n",
       "      <td>1</td>\n",
       "      <td>1</td>\n",
       "      <td>1</td>\n",
       "      <td>1</td>\n",
       "      <td>7</td>\n",
       "    </tr>\n",
       "    <tr>\n",
       "      <th>1</th>\n",
       "      <td>1</td>\n",
       "      <td>1</td>\n",
       "      <td>1</td>\n",
       "      <td>2</td>\n",
       "      <td>1</td>\n",
       "      <td>1</td>\n",
       "      <td>1</td>\n",
       "    </tr>\n",
       "    <tr>\n",
       "      <th>2</th>\n",
       "      <td>1</td>\n",
       "      <td>1</td>\n",
       "      <td>1</td>\n",
       "      <td>3</td>\n",
       "      <td>1</td>\n",
       "      <td>1</td>\n",
       "      <td>1</td>\n",
       "    </tr>\n",
       "    <tr>\n",
       "      <th>3</th>\n",
       "      <td>1</td>\n",
       "      <td>1</td>\n",
       "      <td>1</td>\n",
       "      <td>5</td>\n",
       "      <td>1</td>\n",
       "      <td>1</td>\n",
       "      <td>1</td>\n",
       "    </tr>\n",
       "    <tr>\n",
       "      <th>4</th>\n",
       "      <td>2</td>\n",
       "      <td>1</td>\n",
       "      <td>2</td>\n",
       "      <td>1</td>\n",
       "      <td>1</td>\n",
       "      <td>1</td>\n",
       "      <td>4</td>\n",
       "    </tr>\n",
       "    <tr>\n",
       "      <th>...</th>\n",
       "      <td>...</td>\n",
       "      <td>...</td>\n",
       "      <td>...</td>\n",
       "      <td>...</td>\n",
       "      <td>...</td>\n",
       "      <td>...</td>\n",
       "      <td>...</td>\n",
       "    </tr>\n",
       "    <tr>\n",
       "      <th>59</th>\n",
       "      <td>5</td>\n",
       "      <td>3</td>\n",
       "      <td>6</td>\n",
       "      <td>3</td>\n",
       "      <td>1</td>\n",
       "      <td>1</td>\n",
       "      <td>2</td>\n",
       "    </tr>\n",
       "    <tr>\n",
       "      <th>60</th>\n",
       "      <td>5</td>\n",
       "      <td>4</td>\n",
       "      <td>6</td>\n",
       "      <td>3</td>\n",
       "      <td>1</td>\n",
       "      <td>1</td>\n",
       "      <td>3</td>\n",
       "    </tr>\n",
       "    <tr>\n",
       "      <th>61</th>\n",
       "      <td>5</td>\n",
       "      <td>5</td>\n",
       "      <td>6</td>\n",
       "      <td>3</td>\n",
       "      <td>1</td>\n",
       "      <td>1</td>\n",
       "      <td>1</td>\n",
       "    </tr>\n",
       "    <tr>\n",
       "      <th>62</th>\n",
       "      <td>6</td>\n",
       "      <td>1</td>\n",
       "      <td>2</td>\n",
       "      <td>1</td>\n",
       "      <td>1</td>\n",
       "      <td>1</td>\n",
       "      <td>4</td>\n",
       "    </tr>\n",
       "    <tr>\n",
       "      <th>63</th>\n",
       "      <td>6</td>\n",
       "      <td>1</td>\n",
       "      <td>2</td>\n",
       "      <td>2</td>\n",
       "      <td>1</td>\n",
       "      <td>1</td>\n",
       "      <td>1</td>\n",
       "    </tr>\n",
       "  </tbody>\n",
       "</table>\n",
       "<p>64 rows × 7 columns</p>\n",
       "</div>"
      ],
      "text/plain": [
       "    temperature [C]_binning  Al-concentration [at.%]_binning  \\\n",
       "0                         1                                1   \n",
       "1                         1                                1   \n",
       "2                         1                                1   \n",
       "3                         1                                1   \n",
       "4                         2                                1   \n",
       "..                      ...                              ...   \n",
       "59                        5                                3   \n",
       "60                        5                                4   \n",
       "61                        5                                5   \n",
       "62                        6                                1   \n",
       "63                        6                                1   \n",
       "\n",
       "    O-concentration [at.%]_binning  ionization degree [a.u.]_binning  \\\n",
       "0                                1                                 1   \n",
       "1                                1                                 2   \n",
       "2                                1                                 3   \n",
       "3                                1                                 5   \n",
       "4                                2                                 1   \n",
       "..                             ...                               ...   \n",
       "59                               6                                 3   \n",
       "60                               6                                 3   \n",
       "61                               6                                 3   \n",
       "62                               2                                 1   \n",
       "63                               2                                 2   \n",
       "\n",
       "    average ion energy [eV]_binning  pressure [Pa]_binning  T  \n",
       "0                                 1                      1  7  \n",
       "1                                 1                      1  1  \n",
       "2                                 1                      1  1  \n",
       "3                                 1                      1  1  \n",
       "4                                 1                      1  4  \n",
       "..                              ...                    ... ..  \n",
       "59                                1                      1  2  \n",
       "60                                1                      1  3  \n",
       "61                                1                      1  1  \n",
       "62                                1                      1  4  \n",
       "63                                1                      1  1  \n",
       "\n",
       "[64 rows x 7 columns]"
      ]
     },
     "execution_count": 10,
     "metadata": {},
     "output_type": "execute_result"
    }
   ],
   "source": [
    "# 取我们需要用的值\n",
    "y = df[Y_COLUMNS]\n",
    "#做最大最小值归一化\n",
    "y_scaled = scaler.fit_transform(y)\n",
    "# 用tsne对标签进行降维, 默认是降到2维\n",
    "tsne = TSNE(init='pca', learning_rate='auto')\n",
    "y_tsne = tsne.fit_transform(y_scaled)\n",
    "\n",
    "#number of bins per each extrinsic properties\n",
    "BINS=6\n",
    "\n",
    "for Y_column in Y_COLUMNS:\n",
    "    print(Y_column)\n",
    "    fig, axs= plt.subplots(1,2, figsize=(7,3))\n",
    "    im=axs[0].scatter(y_tsne[:,0], y_tsne[:,1], c= df[Y_column])\n",
    "    fig.colorbar(im, ax = axs[0])\n",
    "    h=axs[1].hist(df[Y_column], bins=BINS)\n",
    "    plt.show()\n",
    "\n",
    "binning_labels_dict = {}\n",
    "Y_COLUMNS_BINNING = []\n",
    "for Y_column in Y_COLUMNS:\n",
    "    # histogram means \"直方图\", bins是均匀分组后的边界\n",
    "    cnt, bins = np.histogram(df[Y_column], bins=BINS)\n",
    "    # 为什么要对这个减1？因为后面做searchsorted时，对这个边界的索引可能出问题\n",
    "    bins[0] -= 1\n",
    "    col_name = Y_column + \"_binning\"\n",
    "    # 做这个操作是为了把所有的原始数据分成6组, 用1~6作为标签\n",
    "    binning_labels_dict[col_name] = np.searchsorted(bins, df[Y_column].values)\n",
    "    Y_COLUMNS_BINNING.append(col_name)\n",
    "\n",
    "binning_df = pd.DataFrame(binning_labels_dict)\n",
    "# 给其增加一列“T”，赋值全为1,用来计数，count之后T的值就是这种标签的个数\n",
    "binning_df[\"T\"] = 1\n",
    "# 分别按照Y_COLUMNS_BINNING中的指标分组，统计每组的个数\n",
    "# 这里按照这个列表去groupby,会自动列出所有可能的取值，然后再count，从而计算出每一类的数量，以及所有的类别，这个方法真的是特别巧妙\n",
    "count_bins_df = binning_df.groupby(Y_COLUMNS_BINNING).count()\n",
    "# 每个指标都有\n",
    "# 这里补充一个reset_index的操作，原来的代码没有这个操作导致后面出问题了\n",
    "count_bins_df = count_bins_df.reset_index()\n",
    "count_bins_df"
   ]
  },
  {
   "cell_type": "code",
   "execution_count": 11,
   "metadata": {},
   "outputs": [],
   "source": [
    "max_count=count_bins_df[\"T\"].max()\n",
    "# 与原始数据连接\n",
    "df = pd.concat((df, binning_df), axis=1)\n",
    "df.drop(labels=\"T\", axis=1, inplace=True)\n",
    "count_bins_df = count_bins_df.reset_index()\n",
    "\n",
    "df=pd.merge(df,count_bins_df,on=Y_COLUMNS_BINNING)\n",
    "\n",
    "df[\"weight\"] = max_count/df[\"T\"]"
   ]
  },
  {
   "cell_type": "code",
   "execution_count": 12,
   "metadata": {},
   "outputs": [
    {
     "data": {
      "text/html": [
       "<div>\n",
       "<style scoped>\n",
       "    .dataframe tbody tr th:only-of-type {\n",
       "        vertical-align: middle;\n",
       "    }\n",
       "\n",
       "    .dataframe tbody tr th {\n",
       "        vertical-align: top;\n",
       "    }\n",
       "\n",
       "    .dataframe thead th {\n",
       "        text-align: right;\n",
       "    }\n",
       "</style>\n",
       "<table border=\"1\" class=\"dataframe\">\n",
       "  <thead>\n",
       "    <tr style=\"text-align: right;\">\n",
       "      <th></th>\n",
       "      <th>file name</th>\n",
       "      <th>sample id</th>\n",
       "      <th>position</th>\n",
       "      <th>temperature [C]</th>\n",
       "      <th>Al-concentration [at.%]</th>\n",
       "      <th>O-concentration [at.%]</th>\n",
       "      <th>ionization degree [a.u.]</th>\n",
       "      <th>average ion energy [eV]</th>\n",
       "      <th>pressure [Pa]</th>\n",
       "      <th>label</th>\n",
       "      <th>temperature [C]_binning</th>\n",
       "      <th>Al-concentration [at.%]_binning</th>\n",
       "      <th>O-concentration [at.%]_binning</th>\n",
       "      <th>ionization degree [a.u.]_binning</th>\n",
       "      <th>average ion energy [eV]_binning</th>\n",
       "      <th>pressure [Pa]_binning</th>\n",
       "      <th>index</th>\n",
       "      <th>T</th>\n",
       "      <th>weight</th>\n",
       "    </tr>\n",
       "  </thead>\n",
       "  <tbody>\n",
       "    <tr>\n",
       "      <th>0</th>\n",
       "      <td>1680-Pos6-50kx_ergebnis.jpg</td>\n",
       "      <td>1680</td>\n",
       "      <td>6</td>\n",
       "      <td>500</td>\n",
       "      <td>29.94711</td>\n",
       "      <td>0</td>\n",
       "      <td>1.0</td>\n",
       "      <td>106.73417</td>\n",
       "      <td>0.5</td>\n",
       "      <td>smooth-facetted</td>\n",
       "      <td>4</td>\n",
       "      <td>3</td>\n",
       "      <td>1</td>\n",
       "      <td>5</td>\n",
       "      <td>4</td>\n",
       "      <td>1</td>\n",
       "      <td>37</td>\n",
       "      <td>1</td>\n",
       "      <td>8.000000</td>\n",
       "    </tr>\n",
       "    <tr>\n",
       "      <th>1</th>\n",
       "      <td>0001208_600-Pos2-50kx.jpg</td>\n",
       "      <td>1208</td>\n",
       "      <td>2</td>\n",
       "      <td>600</td>\n",
       "      <td>49.36000</td>\n",
       "      <td>10</td>\n",
       "      <td>0.5</td>\n",
       "      <td>6.69893</td>\n",
       "      <td>0.5</td>\n",
       "      <td>facetted</td>\n",
       "      <td>5</td>\n",
       "      <td>4</td>\n",
       "      <td>6</td>\n",
       "      <td>3</td>\n",
       "      <td>1</td>\n",
       "      <td>1</td>\n",
       "      <td>60</td>\n",
       "      <td>3</td>\n",
       "      <td>2.666667</td>\n",
       "    </tr>\n",
       "    <tr>\n",
       "      <th>2</th>\n",
       "      <td>0001208_600-Pos3-50kx.jpg</td>\n",
       "      <td>1208</td>\n",
       "      <td>3</td>\n",
       "      <td>600</td>\n",
       "      <td>43.86000</td>\n",
       "      <td>10</td>\n",
       "      <td>0.5</td>\n",
       "      <td>6.31924</td>\n",
       "      <td>0.5</td>\n",
       "      <td>facetted</td>\n",
       "      <td>5</td>\n",
       "      <td>4</td>\n",
       "      <td>6</td>\n",
       "      <td>3</td>\n",
       "      <td>1</td>\n",
       "      <td>1</td>\n",
       "      <td>60</td>\n",
       "      <td>3</td>\n",
       "      <td>2.666667</td>\n",
       "    </tr>\n",
       "    <tr>\n",
       "      <th>3</th>\n",
       "      <td>0001208_600-Pos4-50kx.jpg</td>\n",
       "      <td>1208</td>\n",
       "      <td>4</td>\n",
       "      <td>600</td>\n",
       "      <td>38.38000</td>\n",
       "      <td>10</td>\n",
       "      <td>0.5</td>\n",
       "      <td>6.13510</td>\n",
       "      <td>0.5</td>\n",
       "      <td>facetted</td>\n",
       "      <td>5</td>\n",
       "      <td>4</td>\n",
       "      <td>6</td>\n",
       "      <td>3</td>\n",
       "      <td>1</td>\n",
       "      <td>1</td>\n",
       "      <td>60</td>\n",
       "      <td>3</td>\n",
       "      <td>2.666667</td>\n",
       "    </tr>\n",
       "    <tr>\n",
       "      <th>4</th>\n",
       "      <td>0001208_600-Pos6-50kx.jpg</td>\n",
       "      <td>1208</td>\n",
       "      <td>6</td>\n",
       "      <td>600</td>\n",
       "      <td>27.42000</td>\n",
       "      <td>10</td>\n",
       "      <td>0.5</td>\n",
       "      <td>7.22784</td>\n",
       "      <td>0.5</td>\n",
       "      <td>facetted</td>\n",
       "      <td>5</td>\n",
       "      <td>3</td>\n",
       "      <td>6</td>\n",
       "      <td>3</td>\n",
       "      <td>1</td>\n",
       "      <td>1</td>\n",
       "      <td>59</td>\n",
       "      <td>2</td>\n",
       "      <td>4.000000</td>\n",
       "    </tr>\n",
       "    <tr>\n",
       "      <th>...</th>\n",
       "      <td>...</td>\n",
       "      <td>...</td>\n",
       "      <td>...</td>\n",
       "      <td>...</td>\n",
       "      <td>...</td>\n",
       "      <td>...</td>\n",
       "      <td>...</td>\n",
       "      <td>...</td>\n",
       "      <td>...</td>\n",
       "      <td>...</td>\n",
       "      <td>...</td>\n",
       "      <td>...</td>\n",
       "      <td>...</td>\n",
       "      <td>...</td>\n",
       "      <td>...</td>\n",
       "      <td>...</td>\n",
       "      <td>...</td>\n",
       "      <td>...</td>\n",
       "      <td>...</td>\n",
       "    </tr>\n",
       "    <tr>\n",
       "      <th>118</th>\n",
       "      <td>0001208_200-Pos8-50kx.jpg</td>\n",
       "      <td>1208</td>\n",
       "      <td>8</td>\n",
       "      <td>200</td>\n",
       "      <td>16.57000</td>\n",
       "      <td>10</td>\n",
       "      <td>0.5</td>\n",
       "      <td>8.49609</td>\n",
       "      <td>0.5</td>\n",
       "      <td>fine grained</td>\n",
       "      <td>2</td>\n",
       "      <td>2</td>\n",
       "      <td>6</td>\n",
       "      <td>3</td>\n",
       "      <td>1</td>\n",
       "      <td>1</td>\n",
       "      <td>7</td>\n",
       "      <td>2</td>\n",
       "      <td>4.000000</td>\n",
       "    </tr>\n",
       "    <tr>\n",
       "      <th>119</th>\n",
       "      <td>1697_Pos9_50kx_cropped.jpg</td>\n",
       "      <td>1697</td>\n",
       "      <td>9</td>\n",
       "      <td>500</td>\n",
       "      <td>11.31780</td>\n",
       "      <td>0</td>\n",
       "      <td>1.2</td>\n",
       "      <td>100.00000</td>\n",
       "      <td>1.0</td>\n",
       "      <td>smooth-facetted</td>\n",
       "      <td>4</td>\n",
       "      <td>1</td>\n",
       "      <td>1</td>\n",
       "      <td>6</td>\n",
       "      <td>3</td>\n",
       "      <td>6</td>\n",
       "      <td>26</td>\n",
       "      <td>2</td>\n",
       "      <td>4.000000</td>\n",
       "    </tr>\n",
       "    <tr>\n",
       "      <th>120</th>\n",
       "      <td>1697_Pos10_50kx_cropped.jpg</td>\n",
       "      <td>1697</td>\n",
       "      <td>10</td>\n",
       "      <td>500</td>\n",
       "      <td>7.88694</td>\n",
       "      <td>0</td>\n",
       "      <td>1.2</td>\n",
       "      <td>100.00000</td>\n",
       "      <td>1.0</td>\n",
       "      <td>smooth-facetted</td>\n",
       "      <td>4</td>\n",
       "      <td>1</td>\n",
       "      <td>1</td>\n",
       "      <td>6</td>\n",
       "      <td>3</td>\n",
       "      <td>6</td>\n",
       "      <td>26</td>\n",
       "      <td>2</td>\n",
       "      <td>4.000000</td>\n",
       "    </tr>\n",
       "    <tr>\n",
       "      <th>121</th>\n",
       "      <td>1680-Pos9-50kx_ergebnis.jpg</td>\n",
       "      <td>1680</td>\n",
       "      <td>9</td>\n",
       "      <td>500</td>\n",
       "      <td>11.78733</td>\n",
       "      <td>0</td>\n",
       "      <td>1.0</td>\n",
       "      <td>108.49609</td>\n",
       "      <td>0.5</td>\n",
       "      <td>smooth-facetted</td>\n",
       "      <td>4</td>\n",
       "      <td>1</td>\n",
       "      <td>1</td>\n",
       "      <td>5</td>\n",
       "      <td>4</td>\n",
       "      <td>1</td>\n",
       "      <td>23</td>\n",
       "      <td>1</td>\n",
       "      <td>8.000000</td>\n",
       "    </tr>\n",
       "    <tr>\n",
       "      <th>122</th>\n",
       "      <td>4203_650_Pos06_50kx.jpg</td>\n",
       "      <td>4203</td>\n",
       "      <td>6</td>\n",
       "      <td>650</td>\n",
       "      <td>0.00000</td>\n",
       "      <td>3</td>\n",
       "      <td>1.0</td>\n",
       "      <td>10.00000</td>\n",
       "      <td>0.5</td>\n",
       "      <td>facetted</td>\n",
       "      <td>5</td>\n",
       "      <td>1</td>\n",
       "      <td>2</td>\n",
       "      <td>5</td>\n",
       "      <td>1</td>\n",
       "      <td>1</td>\n",
       "      <td>57</td>\n",
       "      <td>1</td>\n",
       "      <td>8.000000</td>\n",
       "    </tr>\n",
       "  </tbody>\n",
       "</table>\n",
       "<p>123 rows × 19 columns</p>\n",
       "</div>"
      ],
      "text/plain": [
       "                       file name  sample id  position  temperature [C]  \\\n",
       "0    1680-Pos6-50kx_ergebnis.jpg       1680         6              500   \n",
       "1      0001208_600-Pos2-50kx.jpg       1208         2              600   \n",
       "2      0001208_600-Pos3-50kx.jpg       1208         3              600   \n",
       "3      0001208_600-Pos4-50kx.jpg       1208         4              600   \n",
       "4      0001208_600-Pos6-50kx.jpg       1208         6              600   \n",
       "..                           ...        ...       ...              ...   \n",
       "118    0001208_200-Pos8-50kx.jpg       1208         8              200   \n",
       "119   1697_Pos9_50kx_cropped.jpg       1697         9              500   \n",
       "120  1697_Pos10_50kx_cropped.jpg       1697        10              500   \n",
       "121  1680-Pos9-50kx_ergebnis.jpg       1680         9              500   \n",
       "122      4203_650_Pos06_50kx.jpg       4203         6              650   \n",
       "\n",
       "     Al-concentration [at.%]  O-concentration [at.%]  \\\n",
       "0                   29.94711                       0   \n",
       "1                   49.36000                      10   \n",
       "2                   43.86000                      10   \n",
       "3                   38.38000                      10   \n",
       "4                   27.42000                      10   \n",
       "..                       ...                     ...   \n",
       "118                 16.57000                      10   \n",
       "119                 11.31780                       0   \n",
       "120                  7.88694                       0   \n",
       "121                 11.78733                       0   \n",
       "122                  0.00000                       3   \n",
       "\n",
       "     ionization degree [a.u.]  average ion energy [eV]  pressure [Pa]  \\\n",
       "0                         1.0                106.73417            0.5   \n",
       "1                         0.5                  6.69893            0.5   \n",
       "2                         0.5                  6.31924            0.5   \n",
       "3                         0.5                  6.13510            0.5   \n",
       "4                         0.5                  7.22784            0.5   \n",
       "..                        ...                      ...            ...   \n",
       "118                       0.5                  8.49609            0.5   \n",
       "119                       1.2                100.00000            1.0   \n",
       "120                       1.2                100.00000            1.0   \n",
       "121                       1.0                108.49609            0.5   \n",
       "122                       1.0                 10.00000            0.5   \n",
       "\n",
       "               label  temperature [C]_binning  \\\n",
       "0    smooth-facetted                        4   \n",
       "1           facetted                        5   \n",
       "2           facetted                        5   \n",
       "3           facetted                        5   \n",
       "4           facetted                        5   \n",
       "..               ...                      ...   \n",
       "118     fine grained                        2   \n",
       "119  smooth-facetted                        4   \n",
       "120  smooth-facetted                        4   \n",
       "121  smooth-facetted                        4   \n",
       "122         facetted                        5   \n",
       "\n",
       "     Al-concentration [at.%]_binning  O-concentration [at.%]_binning  \\\n",
       "0                                  3                               1   \n",
       "1                                  4                               6   \n",
       "2                                  4                               6   \n",
       "3                                  4                               6   \n",
       "4                                  3                               6   \n",
       "..                               ...                             ...   \n",
       "118                                2                               6   \n",
       "119                                1                               1   \n",
       "120                                1                               1   \n",
       "121                                1                               1   \n",
       "122                                1                               2   \n",
       "\n",
       "     ionization degree [a.u.]_binning  average ion energy [eV]_binning  \\\n",
       "0                                   5                                4   \n",
       "1                                   3                                1   \n",
       "2                                   3                                1   \n",
       "3                                   3                                1   \n",
       "4                                   3                                1   \n",
       "..                                ...                              ...   \n",
       "118                                 3                                1   \n",
       "119                                 6                                3   \n",
       "120                                 6                                3   \n",
       "121                                 5                                4   \n",
       "122                                 5                                1   \n",
       "\n",
       "     pressure [Pa]_binning  index  T    weight  \n",
       "0                        1     37  1  8.000000  \n",
       "1                        1     60  3  2.666667  \n",
       "2                        1     60  3  2.666667  \n",
       "3                        1     60  3  2.666667  \n",
       "4                        1     59  2  4.000000  \n",
       "..                     ...    ... ..       ...  \n",
       "118                      1      7  2  4.000000  \n",
       "119                      6     26  2  4.000000  \n",
       "120                      6     26  2  4.000000  \n",
       "121                      1     23  1  8.000000  \n",
       "122                      1     57  1  8.000000  \n",
       "\n",
       "[123 rows x 19 columns]"
      ]
     },
     "execution_count": 12,
     "metadata": {},
     "output_type": "execute_result"
    }
   ],
   "source": [
    "# 至此，csv数据处理完成\n",
    "df"
   ]
  },
  {
   "cell_type": "code",
   "execution_count": 13,
   "metadata": {},
   "outputs": [
    {
     "name": "stdout",
     "output_type": "stream",
     "text": [
      "0 -> 15\n",
      "16 -> 31\n",
      "32 -> 47\n",
      "48 -> 63\n",
      "64 -> 79\n",
      "80 -> 95\n",
      "96 -> 111\n",
      "112 -> 122\n"
     ]
    }
   ],
   "source": [
    "# Image cropping & resizing \n",
    "BOX_SIZE = 128\n",
    "BATCH_SIZE = 16\n",
    "CROP_PER_IMAGE = 128\n",
    "\n",
    "# ceil是向上取整\n",
    "batch_count = int(np.ceil(len(df)/BATCH_SIZE))\n",
    "\n",
    "YS = []\n",
    "WEIGHTS = []\n",
    "XS = []\n",
    "\n",
    "for b in range(0, batch_count):\n",
    "    print(b*BATCH_SIZE, \"->\", min(len(df), b*BATCH_SIZE+BATCH_SIZE)-1)\n",
    "    batch_indices = np.arange(b*BATCH_SIZE,min(len(df),b*BATCH_SIZE+BATCH_SIZE))\n",
    "\n",
    "    for ind in batch_indices:\n",
    "        fname = df.loc[ind, \"file name\"]\n",
    "        fname = os.path.join(DATA_PATH, IMAGE_SUBPATH, fname)\n",
    "        im = Image.open(fname)\n",
    "        for rep in range(CROP_PER_IMAGE):\n",
    "            # 剪裁\n",
    "            left = np.random.randint(0, im.width - BOX_SIZE)\n",
    "            upper = np.random.randint(0, im.height - BOX_SIZE)\n",
    "\n",
    "            box = left, upper, left+BOX_SIZE, upper+BOX_SIZE\n",
    "\n",
    "            sub_image = im.crop(box)\n",
    "\n",
    "            sub_image = sub_image.resize((SX, SY), resample=Image.Resampling.LANCZOS)\n",
    "\n",
    "            sub_image_np = np.array(sub_image)\n",
    "            sub_image_np = ((sub_image_np-127.5)/127.5).reshape(SX, SY, 1)\n",
    "            # YS存储该图片对应的information\n",
    "            YS.append(df.loc[ind, Y_COLUMNS].values)\n",
    "            # WEIGHTS，存储这个图片的权重\n",
    "            WEIGHTS.append(df.loc[ind, \"weight\"])\n",
    "            # XS存储图片本身\n",
    "            XS.append(sub_image_np)\n",
    "\n",
    "        "
   ]
  },
  {
   "cell_type": "code",
   "execution_count": 14,
   "metadata": {},
   "outputs": [],
   "source": [
    "YS = np.array(YS)\n",
    "XS = np.array(XS)\n",
    "WEIGHTS = np.array(WEIGHTS)\n",
    "WEIGHTS_SUM = WEIGHTS.sum()"
   ]
  },
  {
   "cell_type": "code",
   "execution_count": 15,
   "metadata": {},
   "outputs": [],
   "source": [
    "# 对标签信息做归一化\n",
    "YS_scaled = scaler.fit_transform(YS)"
   ]
  },
  {
   "cell_type": "code",
   "execution_count": 16,
   "metadata": {},
   "outputs": [
    {
     "data": {
      "text/plain": [
       "array([0.61538462, 0.40182318, 0.        , 0.81818182, 0.50590512,\n",
       "       0.        ])"
      ]
     },
     "execution_count": 16,
     "metadata": {},
     "output_type": "execute_result"
    },
    {
     "data": {
      "image/png": "[encoded data removed]",
      "text/plain": [
       "<Figure size 432x288 with 1 Axes>"
      ]
     },
     "metadata": {
      "needs_background": "light"
     },
     "output_type": "display_data"
    }
   ],
   "source": [
    "plt.imshow(XS[2,:,:,0], cmap='gray')\n",
    "YS_scaled[2]"
   ]
  },
  {
   "cell_type": "code",
   "execution_count": 17,
   "metadata": {},
   "outputs": [
    {
     "data": {
      "text/plain": [
       "(15744, 1, 64, 64)"
      ]
     },
     "execution_count": 17,
     "metadata": {},
     "output_type": "execute_result"
    }
   ],
   "source": [
    "XS = XS.reshape(-1, 1, 64, 64)\n",
    "XS.shape"
   ]
  },
  {
   "cell_type": "markdown",
   "metadata": {},
   "source": [
    "# 定义神经网络，准备机器学习"
   ]
  },
  {
   "cell_type": "code",
   "execution_count": 18,
   "metadata": {},
   "outputs": [],
   "source": [
    "# Root directory for dataset\n",
    "dataroot = DATA_PATH\n",
    "\n",
    "# Number of workers for dataloader\n",
    "workers = 2\n",
    "\n",
    "# Batch size during training\n",
    "batch_size = 128\n",
    "\n",
    "label_dim = 6\n",
    "\n",
    "# Spatial size of training images. All images will be resized to this\n",
    "#   size using a transformer.\n",
    "image_size = 64\n",
    "\n",
    "# Number of channels in the training images. For color images this is 3\n",
    "nc = 3\n",
    "\n",
    "# Size of z latent vector (i.e. size of generator input)\n",
    "nz = 100\n",
    "\n",
    "# Size of feature maps in generator\n",
    "ngf = 64\n",
    "\n",
    "# Size of feature maps in discriminator\n",
    "ndf = 64\n",
    "\n",
    "# Number of training epochs\n",
    "num_epochs = 30\n",
    "\n",
    "# Learning rate for optimizers\n",
    "lr = 0.0002\n",
    "\n",
    "# Beta1 hyperparam for Adam optimizers\n",
    "beta1 = 0.5\n",
    "\n",
    "# Number of GPUs available. Use 0 for CPU mode.\n",
    "ngpu = 1"
   ]
  },
  {
   "cell_type": "code",
   "execution_count": 19,
   "metadata": {},
   "outputs": [],
   "source": [
    "wandb.config = {\n",
    "    \"learning_rate\":lr,\n",
    "    \"epochs\":num_epochs,\n",
    "    \"batch_size\":batch_size\n",
    "}"
   ]
  },
  {
   "cell_type": "code",
   "execution_count": 20,
   "metadata": {},
   "outputs": [
    {
     "data": {
      "text/plain": [
       "device(type='cuda', index=0)"
      ]
     },
     "execution_count": 20,
     "metadata": {},
     "output_type": "execute_result"
    }
   ],
   "source": [
    "# Decide which device we want to run on\n",
    "device = torch.device(\"cuda:0\" if (torch.cuda.is_available and ngpu > 0) else \"cpu\")\n",
    "device"
   ]
  },
  {
   "cell_type": "code",
   "execution_count": 21,
   "metadata": {},
   "outputs": [],
   "source": [
    "class GetData(Dataset):\n",
    "    def __init__(self, datax, labely, weights_input) -> None:\n",
    "        self.data = torch.from_numpy(datax.astype(float)).to(device)\n",
    "        self.label = torch.from_numpy(labely.astype(float)).to(device)\n",
    "        self.weight = torch.from_numpy(weights_input.astype(float)).to(device)\n",
    "        self.len = len(datax)\n",
    "\n",
    "    def __getitem__(self, index):\n",
    "        return self.data[index], self.label[index], self.weight[index]\n",
    "\n",
    "    def __len__(self):\n",
    "        return self.len\n",
    "\n",
    "dataset = GetData(XS, YS_scaled, WEIGHTS)\n",
    "\n",
    "# dataloader = torch.utils.data.DataLoader(dataset, batch_size=batch_size, shuffle=True, num_workers=workers)\n",
    "dataloader = torch.utils.data.DataLoader(dataset, batch_size=batch_size, shuffle=True)"
   ]
  },
  {
   "cell_type": "code",
   "execution_count": 22,
   "metadata": {},
   "outputs": [
    {
     "name": "stdout",
     "output_type": "stream",
     "text": [
      "torch.Size([128, 1, 64, 64])\n",
      "tensor([0.6154, 0.0000, 0.3000, 0.0511, 0.0172, 0.0000], device='cuda:0',\n",
      "       dtype=torch.float64)\n",
      "tensor(2., device='cuda:0', dtype=torch.float64)\n"
     ]
    },
    {
     "data": {
      "text/plain": [
       "<matplotlib.image.AxesImage at 0x7efff8c733d0>"
      ]
     },
     "execution_count": 22,
     "metadata": {},
     "output_type": "execute_result"
    },
    {
     "data": {
      "image/png": "[encoded data removed]",
      "text/plain": [
       "<Figure size 288x288 with 1 Axes>"
      ]
     },
     "metadata": {
      "needs_background": "light"
     },
     "output_type": "display_data"
    },
    {
     "data": {
      "image/png": "[encoded data removed]",
      "text/plain": [
       "<Figure size 288x288 with 1 Axes>"
      ]
     },
     "metadata": {
      "needs_background": "light"
     },
     "output_type": "display_data"
    }
   ],
   "source": [
    "# Plot some training images\n",
    "real_batch = next(iter(dataloader))\n",
    "print(real_batch[0].size())\n",
    "plt.figure(figsize=(4,4))\n",
    "plt.axis(\"off\")\n",
    "plt.title(\"Training Images\")\n",
    "plt.imshow(real_batch[0].cpu().numpy()[0, 0, :, :], cmap='gray')\n",
    "print(real_batch[1][0])\n",
    "print(real_batch[2][0])\n",
    "plt.figure(figsize=(4,4))\n",
    "plt.axis(\"off\")\n",
    "plt.title(\"Training Images\")\n",
    "plt.imshow(real_batch[0].cpu().numpy()[1, 0, :, :], cmap='gray')\n",
    "# plt.imshow(np.transpose(vutils.make_grid(real_batch[0].to(device)[:64], padding=2, normalize=True).cpu(),(1,2,0)))"
   ]
  },
  {
   "cell_type": "markdown",
   "metadata": {},
   "source": [
    "显示正常，说明我们的数据集读取无误"
   ]
  },
  {
   "cell_type": "code",
   "execution_count": 23,
   "metadata": {},
   "outputs": [],
   "source": [
    "class Generator(nn.Module):\n",
    "    r\"\"\" It is mainly based on the mobile net network as the backbone network generator.\n",
    "    Args:\n",
    "        image_size (int): The size of the image. (Default: 28)\n",
    "        channels (int): The channels of the image. (Default: 1)\n",
    "        num_classes (int): Number of classes for dataset. (Default: 10)\n",
    "    \"\"\"\n",
    "\n",
    "    def __init__(self, image_size: int = 64, channels: int = 1, num_classes: int = label_dim) -> None:\n",
    "        super(Generator, self).__init__()\n",
    "        self.image_size = image_size\n",
    "        self.channels = channels\n",
    "        self.num_classes = num_classes\n",
    "        # self.label_embedding = nn.Linear(num_classes, num_classes)\n",
    "        # self.label_embedding = nn.Embedding(num_classes, num_classes)\n",
    "        self.ylabel = nn.Sequential(\n",
    "            nn.Linear(num_classes, nz),\n",
    "            nn.ReLU(True)\n",
    "        )\n",
    "\n",
    "        self.main = nn.Sequential(\n",
    "            # 1*1*200 ->4*4*512 \n",
    "            nn.ConvTranspose2d(nz + nz, 64*8, 4, 1, 0, bias=False),\n",
    "            nn.BatchNorm2d(64*8),\n",
    "            nn.ReLU(True),\n",
    "\n",
    "            # 4*4*512 -> 8*8*256\n",
    "            nn.ConvTranspose2d(64*8, 64*4, 4, 2, 1, bias=True),\n",
    "            nn.BatchNorm2d(64*4),\n",
    "            nn.ReLU(True),\n",
    "\n",
    "            # 8*8*256 -> 16*16*128\n",
    "            nn.ConvTranspose2d(64*4, 64*2, 4, 2, 1, bias=True),\n",
    "            nn.BatchNorm2d(64*2),\n",
    "            nn.ReLU(True),\n",
    "\n",
    "            # 16*16*128 -> 32*32*64\n",
    "            nn.ConvTranspose2d(64*2, 64, 4, 2, 1, bias=True),\n",
    "            nn.BatchNorm2d(64),\n",
    "            nn.ReLU(True),\n",
    "\n",
    "            # 32*32*64 -> 64*64*1\n",
    "            nn.ConvTranspose2d( 64, 1, 4, 2, 1, bias=False),\n",
    "            nn.Tanh()\n",
    "        )\n",
    "\n",
    "    def forward(self, x, y):\n",
    "        # 这一步似乎可以省略\n",
    "        y=y.reshape(-1,self.num_classes)\n",
    "        y = self.ylabel(y)\n",
    "        y=y.reshape(-1,nz,1,1)\n",
    "        x=x.reshape(-1,nz,1,1)\n",
    "        out = torch.cat([x, y] , dim=1)\n",
    "        out=out.view(-1,100+nz,1,1)\n",
    "\n",
    "        out = self.main(out)\n",
    "        \n",
    "        return out"
   ]
  },
  {
   "cell_type": "code",
   "execution_count": 24,
   "metadata": {},
   "outputs": [],
   "source": [
    "# Discriminator model\n",
    "class Discriminator(nn.Module):\n",
    "    def __init__(self, nc=1):\n",
    "        super(Discriminator, self).__init__()\n",
    "        \n",
    "        self.ylabel=nn.Sequential(\n",
    "            nn.Linear(label_dim, 64*64*1),\n",
    "            nn.ReLU(True)\n",
    "        )\n",
    "        \n",
    "        self.main = nn.Sequential(\n",
    "            #input size nc +  1 che è la condizione\n",
    "            nn.Conv2d(nc+1, 64, 4, 2, 1, bias=False),\n",
    "            nn.LeakyReLU(0.2, inplace=True),\n",
    "\n",
    "            nn.Conv2d(64, 64 * 2, 4, 2, 1, bias=False),\n",
    "            nn.BatchNorm2d(64 * 2),\n",
    "            nn.LeakyReLU(0.2, inplace=True),\n",
    "            \n",
    "            nn.Conv2d(64*2 , 64*4, 4, 2, 1, bias=False),\n",
    "            nn.BatchNorm2d(64 * 4),\n",
    "            nn.LeakyReLU(0.2, inplace=True),\n",
    "\n",
    "            nn.Conv2d(64*4 , 64*8, 4, 2, 1, bias=False),\n",
    "            nn.BatchNorm2d(64 * 8),\n",
    "            nn.LeakyReLU(0.2, inplace=True),\n",
    "\n",
    "            nn.Conv2d(64*8, 1, 4, 1, 0, bias=False),\n",
    "            nn.Sigmoid()\n",
    "        )\n",
    "        \n",
    "    def forward(self, x, y):\n",
    "        y = y.reshape(batch_size,label_dim)\n",
    "        y = self.ylabel(y)\n",
    "        y=y.view(-1, 1, image_size,image_size)\n",
    "        out = torch.cat([x, y] , dim=1)\n",
    "        out = self.main(out)\n",
    "\n",
    "        return out"
   ]
  },
  {
   "cell_type": "markdown",
   "metadata": {},
   "source": [
    "From the DCGAN paper, the authors specify that all model weights shall be randomly initialized from a Normal distribution with mean=0, stdev=0.02. The weights_init function takes an initialized model as input and reinitializes all convolutional, convolutional-transpose, and batch normalization layers to meet this criteria. This function is applied to the models immediately after initialization.\n",
    "\n"
   ]
  },
  {
   "cell_type": "code",
   "execution_count": 25,
   "metadata": {},
   "outputs": [],
   "source": [
    "# custom weights initialization called on netG and netD\n",
    "def weights_init(m):\n",
    "    classname = m.__class__.__name__\n",
    "    if classname.find('Conv') != -1:\n",
    "        nn.init.normal_(m.weight.data, 0.0, 0.02)\n",
    "    elif classname.find('BatchNorm') != -1:\n",
    "        nn.init.normal_(m.weight.data, 1.0, 0.02)\n",
    "        nn.init.constant_(m.bias.data, 0)"
   ]
  },
  {
   "cell_type": "code",
   "execution_count": 26,
   "metadata": {},
   "outputs": [],
   "source": [
    "# generate points in latent space as input for the generator\n",
    "def generate_latent_points(latent_dim, n_samples, n_classes=EXTRINSIC_DIM):\n",
    "    # generate points in the latent space\n",
    "    x_input = np.random.randn(latent_dim * n_samples)\n",
    "    # reshape into a batch of inputs for the network\n",
    "    z_input = x_input.reshape(n_samples, latent_dim)\n",
    "    # generate labels\n",
    "    labels = np.random.choice(len(YS),size=n_samples)\n",
    "    weights = WEIGHTS[labels]\n",
    "    labels=YS_scaled[labels]    \n",
    "    return torch.from_numpy(z_input).to(device), torch.from_numpy(labels).to(device), torch.from_numpy(weights).to(device)\n",
    "\n",
    "# use the generator to generate n fake examples, with class labels\n",
    "def generate_fake_samples(generator, latent_dim, n_samples):\n",
    "    # generate points in latent space\n",
    "    z_input, labels_input, weights_input = generate_latent_points(nz, n_samples)\n",
    "    # predict outputs\n",
    "    images = generator(z_input.float(), labels_input.float())\n",
    "    # create class labels\n",
    "    y = np.zeros((n_samples, 1))\n",
    "    return [images, labels_input], y, weights_input"
   ]
  },
  {
   "cell_type": "code",
   "execution_count": 27,
   "metadata": {},
   "outputs": [],
   "source": [
    "def train_GAN(G, D, G_opt, D_opt, dataset):\n",
    "    for i,(data, label, weight) in tqdm(enumerate(dataset)):\n",
    "\n",
    "        '''\n",
    "        plt.figure(figsize=(8,8))\n",
    "        plt.axis(\"off\")\n",
    "        plt.title(\"Training Images\")\n",
    "        plt.imshow(np.transpose(vutils.make_grid(data, padding=2).cpu(),(1,2,0)))\n",
    "        plt.show()\n",
    "        '''\n",
    "    \n",
    "        ## Train with all-real batch        \n",
    "        D_opt.zero_grad()\n",
    "\n",
    "        # 真实数据 \n",
    "        x_real = data.to(device).float()\n",
    "        y_real = torch.ones(batch_size, ).to(device)\n",
    "        # label_onehot = onehot[label]\n",
    "        label = label.to(device).float()\n",
    "        y_real_predict = D(x_real, label).squeeze()      \n",
    "        d_real_loss = criterion(y_real_predict, y_real)\n",
    "        d_real_loss = d_real_loss * weight / WEIGHTS_SUM\n",
    "        wandb.log({'d_real_loss':d_real_loss.mean()})\n",
    "        d_real_loss.mean().backward()\n",
    "\n",
    "        ## Train with all-fake batch\n",
    "\n",
    "        # noise = torch.randn(batch_size, nz, 1, 1, device = device)\n",
    "        # noise_label = (torch.rand(batch_size, 1) * label_dim).type(torch.LongTensor).squeeze()\n",
    "        #print(noise_label)\n",
    "        # noise_label_onehot = onehot[noise_label].to(device)  # Genera label in modo casuale (-1,)\n",
    "        # x_fake = G(noise, noise_label_onehot)       #Genera immagini false\n",
    "        # y_fake = torch.zeros(batch_size, ).to(device)    # Assegna label 0\n",
    "        # y_fake_predict = D(x_fake, noise_label_onehot).squeeze()\n",
    "\n",
    "        # 生成fake数据\n",
    "        [x_fake, noise_label], y_fake, weight_fake= generate_fake_samples(G, label_dim, batch_size)\n",
    "        y_fake_predict = D(x_fake.float(), noise_label.float()).squeeze()\n",
    "        y_fake = torch.from_numpy(y_fake).reshape(-1).float().to(device)\n",
    "        d_fake_loss = criterion(y_fake_predict, y_fake)\n",
    "        d_fake_loss = d_fake_loss * weight_fake / WEIGHTS_SUM\n",
    "        wandb.log({'d_fake_loss':d_fake_loss.mean()})\n",
    "        d_fake_loss.mean().backward()\n",
    "        D_opt.step()\n",
    "         \n",
    "        # (2) Update G network: maximize log(D(G(z)))         \n",
    "        G_opt.zero_grad()\n",
    "         \n",
    "        #noise = torch.randn(batch_size, z_dim, 1, 1, device = device)\n",
    "        #noise_label = (torch.rand(batch_size, 1) * label_dim).type(torch.LongTensor).squeeze()\n",
    "        #noise_label_onehot = onehot[noise_label].to(device)   # Genera label in modo casuale (-1,)\n",
    "        # x_fake = G(noise, noise_label_onehot)\n",
    "        [x_fake, noise_label], y_fake, weight_fake= generate_fake_samples(G, label_dim, batch_size)\n",
    "        y_fake = torch.ones(batch_size, ).to(device)    # Il y_fake qui è lo stesso di y_real sopra, entrambi sono 1\n",
    "        y_fake_predict = D(x_fake.float(), noise_label.float()).squeeze()\n",
    "        g_loss = criterion(y_fake_predict, y_real)    # Usa direttamente y_real per essere più intuitivo\n",
    "        g_loss = g_loss * weight_fake / WEIGHTS_SUM\n",
    "        wandb.log({'g_loss':g_loss.mean()})\n",
    "        g_loss.mean().backward()\n",
    "        G_opt.step()\n",
    "\n",
    "        err_D = d_fake_loss.mean().item() + d_real_loss.mean().item()\n",
    "        err_G = g_loss.mean().item()\n",
    "        wandb.log({'err_D':err_D, 'err_G':err_G})\n",
    "        '''\n",
    "        if i%50 == 0:\n",
    "            with torch.no_grad():\n",
    "                out_imgs = G(fixed_noise.to(device), fixed_label.to(device))\n",
    "            save_image(out_imgs,f\"{PATH}{i}.png\", nrow = 10) #aggiungi percorso: \"path/iterazione_classe.png\" es \"pippo/20000_3.png\"\n",
    "        '''\n",
    "    return err_D, err_G\n"
   ]
  },
  {
   "cell_type": "code",
   "execution_count": 28,
   "metadata": {},
   "outputs": [
    {
     "name": "stdout",
     "output_type": "stream",
     "text": [
      "cuda:0\n"
     ]
    }
   ],
   "source": [
    "# Models\n",
    "D = Discriminator().to(device)\n",
    "D.apply(weights_init)\n",
    "\n",
    "G = Generator().to(device)\n",
    "G.apply(weights_init)\n",
    "\n",
    "D_opt = torch.optim.Adam(D.parameters(), lr= lr, betas=(beta1, 0.999))#, betas=(beta1, 0.999))\n",
    "G_opt = torch.optim.Adam(G.parameters(), lr= lr, betas=(beta1, 0.999))#, betas=(beta1, 0.999))\n",
    "\n",
    "print(next(D.parameters()).device)"
   ]
  },
  {
   "cell_type": "code",
   "execution_count": 29,
   "metadata": {},
   "outputs": [],
   "source": [
    "# Loss function\n",
    "criterion = torch.nn.BCELoss(reduction='none')"
   ]
  },
  {
   "cell_type": "code",
   "execution_count": 30,
   "metadata": {},
   "outputs": [],
   "source": [
    "fixed_noise = torch.randn(100,100)\n",
    "fixed_noise = fixed_noise.reshape(100,100,1,1)"
   ]
  },
  {
   "cell_type": "code",
   "execution_count": 31,
   "metadata": {},
   "outputs": [],
   "source": [
    "D_loss = []\n",
    "G_loss = []"
   ]
  },
  {
   "cell_type": "code",
   "execution_count": 32,
   "metadata": {},
   "outputs": [
    {
     "data": {
      "application/vnd.jupyter.widget-view+json": {
       "model_id": "069cc7512faa41fb94ad3b3ce572913d",
       "version_major": 2,
       "version_minor": 0
      },
      "text/plain": [
       "  0%|          | 0/30 [00:00<?, ?it/s]"
      ]
     },
     "metadata": {},
     "output_type": "display_data"
    },
    {
     "data": {
      "application/vnd.jupyter.widget-view+json": {
       "model_id": "89462e99b58e4cdbac63ffeca4367553",
       "version_major": 2,
       "version_minor": 0
      },
      "text/plain": [
       "0it [00:00, ?it/s]"
      ]
     },
     "metadata": {},
     "output_type": "display_data"
    },
    {
     "data": {
      "application/vnd.jupyter.widget-view+json": {
       "model_id": "f075b22fbf344bd49a58d68a5aaf8c7b",
       "version_major": 2,
       "version_minor": 0
      },
      "text/plain": [
       "0it [00:00, ?it/s]"
      ]
     },
     "metadata": {},
     "output_type": "display_data"
    },
    {
     "data": {
      "application/vnd.jupyter.widget-view+json": {
       "model_id": "bcb23513edf54bd9a7c6370db5770541",
       "version_major": 2,
       "version_minor": 0
      },
      "text/plain": [
       "0it [00:00, ?it/s]"
      ]
     },
     "metadata": {},
     "output_type": "display_data"
    },
    {
     "data": {
      "application/vnd.jupyter.widget-view+json": {
       "model_id": "46f5280607404b2aad98410cc880f6be",
       "version_major": 2,
       "version_minor": 0
      },
      "text/plain": [
       "0it [00:00, ?it/s]"
      ]
     },
     "metadata": {},
     "output_type": "display_data"
    },
    {
     "data": {
      "application/vnd.jupyter.widget-view+json": {
       "model_id": "ee17b20dc368400dbf766b118127f6ff",
       "version_major": 2,
       "version_minor": 0
      },
      "text/plain": [
       "0it [00:00, ?it/s]"
      ]
     },
     "metadata": {},
     "output_type": "display_data"
    },
    {
     "data": {
      "application/vnd.jupyter.widget-view+json": {
       "model_id": "5d271f4798c644318f651bf9c6c6bf8e",
       "version_major": 2,
       "version_minor": 0
      },
      "text/plain": [
       "0it [00:00, ?it/s]"
      ]
     },
     "metadata": {},
     "output_type": "display_data"
    },
    {
     "data": {
      "application/vnd.jupyter.widget-view+json": {
       "model_id": "b90df23560bf4f5cbe5f6da594696880",
       "version_major": 2,
       "version_minor": 0
      },
      "text/plain": [
       "0it [00:00, ?it/s]"
      ]
     },
     "metadata": {},
     "output_type": "display_data"
    },
    {
     "data": {
      "application/vnd.jupyter.widget-view+json": {
       "model_id": "7da84de594134405a500358c0b36ed96",
       "version_major": 2,
       "version_minor": 0
      },
      "text/plain": [
       "0it [00:00, ?it/s]"
      ]
     },
     "metadata": {},
     "output_type": "display_data"
    },
    {
     "data": {
      "application/vnd.jupyter.widget-view+json": {
       "model_id": "1251c38bf6fd4e3fb83d436586076bb5",
       "version_major": 2,
       "version_minor": 0
      },
      "text/plain": [
       "0it [00:00, ?it/s]"
      ]
     },
     "metadata": {},
     "output_type": "display_data"
    },
    {
     "data": {
      "application/vnd.jupyter.widget-view+json": {
       "model_id": "5b4b8a3ccf4148ea83d083e34ff44ca5",
       "version_major": 2,
       "version_minor": 0
      },
      "text/plain": [
       "0it [00:00, ?it/s]"
      ]
     },
     "metadata": {},
     "output_type": "display_data"
    },
    {
     "data": {
      "application/vnd.jupyter.widget-view+json": {
       "model_id": "99cf465e918149a2b1dae0b24f461ee9",
       "version_major": 2,
       "version_minor": 0
      },
      "text/plain": [
       "0it [00:00, ?it/s]"
      ]
     },
     "metadata": {},
     "output_type": "display_data"
    },
    {
     "data": {
      "application/vnd.jupyter.widget-view+json": {
       "model_id": "32006961b48f44bdb8acc6d5860c3632",
       "version_major": 2,
       "version_minor": 0
      },
      "text/plain": [
       "0it [00:00, ?it/s]"
      ]
     },
     "metadata": {},
     "output_type": "display_data"
    },
    {
     "data": {
      "application/vnd.jupyter.widget-view+json": {
       "model_id": "7cfb41c7e60543b0be1d20f29e1f7259",
       "version_major": 2,
       "version_minor": 0
      },
      "text/plain": [
       "0it [00:00, ?it/s]"
      ]
     },
     "metadata": {},
     "output_type": "display_data"
    },
    {
     "data": {
      "application/vnd.jupyter.widget-view+json": {
       "model_id": "d694968f8e904c4f8b2737f0f823b580",
       "version_major": 2,
       "version_minor": 0
      },
      "text/plain": [
       "0it [00:00, ?it/s]"
      ]
     },
     "metadata": {},
     "output_type": "display_data"
    },
    {
     "data": {
      "application/vnd.jupyter.widget-view+json": {
       "model_id": "cc22cb9802524bb1a4b9ab25dd085790",
       "version_major": 2,
       "version_minor": 0
      },
      "text/plain": [
       "0it [00:00, ?it/s]"
      ]
     },
     "metadata": {},
     "output_type": "display_data"
    },
    {
     "data": {
      "application/vnd.jupyter.widget-view+json": {
       "model_id": "a8b52d7dc9b74186a9f72ab8098ec521",
       "version_major": 2,
       "version_minor": 0
      },
      "text/plain": [
       "0it [00:00, ?it/s]"
      ]
     },
     "metadata": {},
     "output_type": "display_data"
    },
    {
     "data": {
      "application/vnd.jupyter.widget-view+json": {
       "model_id": "03f841ec4efe4fe9b6f816f415534a39",
       "version_major": 2,
       "version_minor": 0
      },
      "text/plain": [
       "0it [00:00, ?it/s]"
      ]
     },
     "metadata": {},
     "output_type": "display_data"
    },
    {
     "data": {
      "application/vnd.jupyter.widget-view+json": {
       "model_id": "5fe16a0f2fea485bba27ba285217b1e9",
       "version_major": 2,
       "version_minor": 0
      },
      "text/plain": [
       "0it [00:00, ?it/s]"
      ]
     },
     "metadata": {},
     "output_type": "display_data"
    },
    {
     "data": {
      "application/vnd.jupyter.widget-view+json": {
       "model_id": "1a1b6ec80cae4c748bce6555d8051e64",
       "version_major": 2,
       "version_minor": 0
      },
      "text/plain": [
       "0it [00:00, ?it/s]"
      ]
     },
     "metadata": {},
     "output_type": "display_data"
    },
    {
     "data": {
      "application/vnd.jupyter.widget-view+json": {
       "model_id": "046ba2db586a4dbcadb482cd3e1f5989",
       "version_major": 2,
       "version_minor": 0
      },
      "text/plain": [
       "0it [00:00, ?it/s]"
      ]
     },
     "metadata": {},
     "output_type": "display_data"
    },
    {
     "data": {
      "application/vnd.jupyter.widget-view+json": {
       "model_id": "46d86ba0791046cdb99118f0ae96dee6",
       "version_major": 2,
       "version_minor": 0
      },
      "text/plain": [
       "0it [00:00, ?it/s]"
      ]
     },
     "metadata": {},
     "output_type": "display_data"
    },
    {
     "data": {
      "application/vnd.jupyter.widget-view+json": {
       "model_id": "904c3842a4cd4eba95c5aaa7ec789a22",
       "version_major": 2,
       "version_minor": 0
      },
      "text/plain": [
       "0it [00:00, ?it/s]"
      ]
     },
     "metadata": {},
     "output_type": "display_data"
    },
    {
     "data": {
      "application/vnd.jupyter.widget-view+json": {
       "model_id": "4d71edbb72b74fd2a7d1e67f02cbc9e3",
       "version_major": 2,
       "version_minor": 0
      },
      "text/plain": [
       "0it [00:00, ?it/s]"
      ]
     },
     "metadata": {},
     "output_type": "display_data"
    },
    {
     "data": {
      "application/vnd.jupyter.widget-view+json": {
       "model_id": "274bb67a41a648ea8a4c8f1834e74eb9",
       "version_major": 2,
       "version_minor": 0
      },
      "text/plain": [
       "0it [00:00, ?it/s]"
      ]
     },
     "metadata": {},
     "output_type": "display_data"
    },
    {
     "data": {
      "application/vnd.jupyter.widget-view+json": {
       "model_id": "d86cd41c184149908e5da6f82c2d35ba",
       "version_major": 2,
       "version_minor": 0
      },
      "text/plain": [
       "0it [00:00, ?it/s]"
      ]
     },
     "metadata": {},
     "output_type": "display_data"
    },
    {
     "data": {
      "application/vnd.jupyter.widget-view+json": {
       "model_id": "1ec2f526ffb2447093599bde57a65ed0",
       "version_major": 2,
       "version_minor": 0
      },
      "text/plain": [
       "0it [00:00, ?it/s]"
      ]
     },
     "metadata": {},
     "output_type": "display_data"
    },
    {
     "data": {
      "application/vnd.jupyter.widget-view+json": {
       "model_id": "e318925c162746888db64da98056d3ae",
       "version_major": 2,
       "version_minor": 0
      },
      "text/plain": [
       "0it [00:00, ?it/s]"
      ]
     },
     "metadata": {},
     "output_type": "display_data"
    },
    {
     "data": {
      "application/vnd.jupyter.widget-view+json": {
       "model_id": "29bd903ac19e432dadf638ca0a2a8a86",
       "version_major": 2,
       "version_minor": 0
      },
      "text/plain": [
       "0it [00:00, ?it/s]"
      ]
     },
     "metadata": {},
     "output_type": "display_data"
    },
    {
     "data": {
      "application/vnd.jupyter.widget-view+json": {
       "model_id": "cce0d9c6208a4c5b9994d727b4f1b27e",
       "version_major": 2,
       "version_minor": 0
      },
      "text/plain": [
       "0it [00:00, ?it/s]"
      ]
     },
     "metadata": {},
     "output_type": "display_data"
    },
    {
     "data": {
      "application/vnd.jupyter.widget-view+json": {
       "model_id": "ae8c9ac2d6af4f6284a8ba8e069dfa88",
       "version_major": 2,
       "version_minor": 0
      },
      "text/plain": [
       "0it [00:00, ?it/s]"
      ]
     },
     "metadata": {},
     "output_type": "display_data"
    }
   ],
   "source": [
    "for epoch in tqdm(range(num_epochs)):\n",
    "    D_losses = []\n",
    "    G_losses = []\n",
    "    if epoch == 5 or epoch == 10:\n",
    "        G_opt.param_groups[0]['lr'] /= 2\n",
    "        D_opt.param_groups[0]['lr'] /= 2\n",
    "        \n",
    "    # training\n",
    "    err_D, err_G = train_GAN(G, D, G_opt, D_opt, dataloader)\n",
    "\n",
    "    D_loss.append(err_D)\n",
    "    G_loss.append(err_G)"
   ]
  },
  {
   "cell_type": "code",
   "execution_count": 33,
   "metadata": {},
   "outputs": [
    {
     "data": {
      "text/html": [
       "Waiting for W&B process to finish... <strong style=\"color:green\">(success).</strong>"
      ],
      "text/plain": [
       "<IPython.core.display.HTML object>"
      ]
     },
     "metadata": {},
     "output_type": "display_data"
    },
    {
     "data": {
      "text/html": [
       "<style>\n",
       "    table.wandb td:nth-child(1) { padding: 0 10px; text-align: left ; width: auto;} td:nth-child(2) {text-align: left ; width: 100%}\n",
       "    .wandb-row { display: flex; flex-direction: row; flex-wrap: wrap; justify-content: flex-start; width: 100% }\n",
       "    .wandb-col { display: flex; flex-direction: column; flex-basis: 100%; flex: 1; padding: 10px; }\n",
       "    </style>\n",
       "<div class=\"wandb-row\"><div class=\"wandb-col\"><h3>Run history:</h3><br/><table class=\"wandb\"><tr><td>d_fake_loss</td><td>█▁▂▁▃▁▂▂▂▃▂▂▂▂▁▂▂▂▂▁▂▂▁▁▂▁▁▁▂▁▁▂▁▁▁▂▁▁▁▁</td></tr><tr><td>d_real_loss</td><td>▁█▂▂▂▃▁▂▁▂▁▂▂▂▂▂▂▂▂▁▁▁▁▁▁▂▁▂▁▁▁▁▁▁▂▁▁▁▂▁</td></tr><tr><td>err_D</td><td>██▃▂▃▃▂▂▂▃▂▃▃▂▂▂▂▂▂▁▂▂▁▁▂▁▁▁▁▁▁▂▁▁▂▁▁▁▂▁</td></tr><tr><td>err_G</td><td>█▆▂▂▂▁▁▁▁▁▂▁▁▁▂▁▁▁▁▁▁▁▁▁▂▂▂▁▁▁▂▂▂▂▁▂▂▂▂▂</td></tr><tr><td>g_loss</td><td>█▆▂▂▂▁▁▁▁▁▂▁▁▁▂▁▁▁▁▁▁▁▁▁▂▂▂▁▁▁▂▂▂▂▁▂▂▂▂▂</td></tr></table><br/></div><div class=\"wandb-col\"><h3>Run summary:</h3><br/><table class=\"wandb\"><tr><td>d_fake_loss</td><td>0.0</td></tr><tr><td>d_real_loss</td><td>1e-05</td></tr><tr><td>err_D</td><td>1e-05</td></tr><tr><td>err_G</td><td>0.00022</td></tr><tr><td>g_loss</td><td>0.00022</td></tr></table><br/></div></div>"
      ],
      "text/plain": [
       "<IPython.core.display.HTML object>"
      ]
     },
     "metadata": {},
     "output_type": "display_data"
    },
    {
     "data": {
      "text/html": [
       "Synced <strong style=\"color:#cdcd00\">wobbly-frog-12</strong>: <a href=\"https://wandb.ai/tyrion279/GAN.ipynb/runs/2edkldao\" target=\"_blank\">https://wandb.ai/tyrion279/GAN.ipynb/runs/2edkldao</a><br/>Synced 5 W&B file(s), 0 media file(s), 0 artifact file(s) and 0 other file(s)"
      ],
      "text/plain": [
       "<IPython.core.display.HTML object>"
      ]
     },
     "metadata": {},
     "output_type": "display_data"
    },
    {
     "data": {
      "text/html": [
       "Find logs at: <code>./wandb/run-20221115_163232-2edkldao/logs</code>"
      ],
      "text/plain": [
       "<IPython.core.display.HTML object>"
      ]
     },
     "metadata": {},
     "output_type": "display_data"
    }
   ],
   "source": [
    "wandb.finish()"
   ]
  },
  {
   "cell_type": "code",
   "execution_count": 34,
   "metadata": {},
   "outputs": [
    {
     "data": {
      "text/plain": [
       "tensor([4., 1., 1., 1., 6., 1.], device='cuda:0')"
      ]
     },
     "execution_count": 34,
     "metadata": {},
     "output_type": "execute_result"
    }
   ],
   "source": [
    "y = [4.0, 1.0, 1.0, 1.0, 6.0, 1.0]\n",
    "y = torch.tensor(y).to(device)\n",
    "y"
   ]
  },
  {
   "cell_type": "code",
   "execution_count": 78,
   "metadata": {},
   "outputs": [
    {
     "name": "stdout",
     "output_type": "stream",
     "text": [
      "tensor([0.4872, 0.5150, 1.0000, 0.3636, 0.0246, 0.0000], device='cuda:0')\n"
     ]
    },
    {
     "data": {
      "text/plain": [
       "<matplotlib.image.AxesImage at 0x7efff802a760>"
      ]
     },
     "execution_count": 78,
     "metadata": {},
     "output_type": "execute_result"
    },
    {
     "data": {
      "image/png": "[encoded data removed]",
      "text/plain": [
       "<Figure size 432x288 with 1 Axes>"
      ]
     },
     "metadata": {
      "needs_background": "light"
     },
     "output_type": "display_data"
    }
   ],
   "source": [
    "x = torch.randn(1,100).to(device)\n",
    "# y = YS_scaled[360].astype(float)\n",
    "\n",
    "y = YS_scaled[3000]\n",
    "y = torch.from_numpy(y).float().to(device)\n",
    "with torch.no_grad():\n",
    "    out = G(x, y)\n",
    "\n",
    "out = (out + 1) / 2.0 \n",
    "print(y)\n",
    "plt.imshow(out.cpu()[0, 0, :, :],cmap='gray')\n"
   ]
  },
  {
   "cell_type": "code",
   "execution_count": 67,
   "metadata": {},
   "outputs": [
    {
     "name": "stdout",
     "output_type": "stream",
     "text": [
      "[0.48717949 0.51497369 1.         0.36363636 0.02456986 0.        ]\n"
     ]
    },
    {
     "data": {
      "image/png": "[encoded data removed]",
      "text/plain": [
       "<Figure size 432x288 with 1 Axes>"
      ]
     },
     "metadata": {
      "needs_background": "light"
     },
     "output_type": "display_data"
    }
   ],
   "source": [
    "plt.imshow(XS[3000, 0, :, :], cmap='gray')\n",
    "print(YS_scaled[3000])"
   ]
  },
  {
   "cell_type": "code",
   "execution_count": 37,
   "metadata": {},
   "outputs": [],
   "source": [
    "save_dir = './outputs/G_11_15.pt'"
   ]
  },
  {
   "cell_type": "code",
   "execution_count": 38,
   "metadata": {},
   "outputs": [],
   "source": [
    "torch.save(G.state_dict(), save_dir)"
   ]
  }
 ],
 "metadata": {
  "kernelspec": {
   "display_name": "Python 3 (ipykernel)",
   "language": "python",
   "name": "python3"
  },
  "language_info": {
   "codemirror_mode": {
    "name": "ipython",
    "version": 3
   },
   "file_extension": ".py",
   "mimetype": "text/x-python",
   "name": "python",
   "nbconvert_exporter": "python",
   "pygments_lexer": "ipython3",
   "version": "3.9.12"
  },
  "vscode": {
   "interpreter": {
    "hash": "71342f419acc3ba6ae382518c4ba2a9e6f9bd8751a76a463bc8e77674675b221"
   }
  }
 },
 "nbformat": 4,
 "nbformat_minor": 4
}
